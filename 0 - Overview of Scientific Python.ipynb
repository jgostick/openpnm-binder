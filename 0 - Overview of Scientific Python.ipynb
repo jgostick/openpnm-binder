{
 "cells": [
  {
   "cell_type": "markdown",
   "id": "c640fc64",
   "metadata": {
    "slideshow": {
     "slide_type": "slide"
    }
   },
   "source": [
    "# Introduction to Scientific Python\n",
    "\n",
    "Python has become a very popular choice for scientific applications for a few reasons:\n",
    "\n",
    "- It's free, unlike the main alternative Matlab which is free for students but very expensive for industry\n",
    "- It's easy to learn and use\n",
    "- It's very powerful and general purpose, so you can learn Python for numerical studies but use it for making a website\n",
    "- It has a huge ecosystem of existing packages, creating ever more momentum for the addition of new packages"
   ]
  },
  {
   "cell_type": "markdown",
   "id": "118a14d3",
   "metadata": {
    "slideshow": {
     "slide_type": "fragment"
    }
   },
   "source": [
    "Python is not without it's downsides though:\n",
    "\n",
    "- It is actually terrible at numerical stuff!\n",
    "- It is very slow\n",
    "\n",
    "These downsides have been mostly addressed by the package called [Numpy](https://numpy.org) which provides Python with a new data type that IS fast. There is also a related package called [Scipy](https://scipy.org) which provides a massive library of functions that operate on Numpy arrays (e.g. Fourier Transforms, ODE solvers, etc).  In fact, many packages have sprouted up around Numpy/Scipy, which are collectively called the \"Scipy Stack\" (e.g Matplotlib, Pandas, scikit-learn, etc)."
   ]
  },
  {
   "cell_type": "markdown",
   "id": "6a04df80",
   "metadata": {
    "slideshow": {
     "slide_type": "fragment"
    }
   },
   "source": [
    "> The bottom line is that you need to install both Python and the \"Scipy Stack\" packages.  This is most conviently done using the [Anaconda Distribution](https://www.anaconda.com/products/distribution).  This distribution is maintained and distributed by a company which was started by the original authors of Numpy.  They make money by providing advanced versions of Anaconda to companies, but they offer the base package for free.  "
   ]
  },
  {
   "cell_type": "markdown",
   "id": "d88e5af5",
   "metadata": {
    "slideshow": {
     "slide_type": "slide"
    }
   },
   "source": [
    "## Doing Math in Python: The Wrong Way\n",
    "\n",
    "Let's quickly look at using pure Python to do some basic math. Start by putting some numbers into a ``list``:"
   ]
  },
  {
   "cell_type": "code",
   "execution_count": 5,
   "id": "e8e20eeb",
   "metadata": {
    "slideshow": {
     "slide_type": "fragment"
    }
   },
   "outputs": [],
   "source": [
    "a = [1, 2, 3, -2, 0.5]"
   ]
  },
  {
   "cell_type": "markdown",
   "id": "744c10d7",
   "metadata": {
    "slideshow": {
     "slide_type": "fragment"
    }
   },
   "source": [
    "Now let's mulitply each number by 2:"
   ]
  },
  {
   "cell_type": "code",
   "execution_count": 6,
   "id": "d054cc77",
   "metadata": {
    "slideshow": {
     "slide_type": "fragment"
    }
   },
   "outputs": [
    {
     "name": "stdout",
     "output_type": "stream",
     "text": [
      "[1, 2, 3, -2, 0.5, 1, 2, 3, -2, 0.5]\n"
     ]
    }
   ],
   "source": [
    "a = a * 2\n",
    "print(a)"
   ]
  },
  {
   "cell_type": "markdown",
   "id": "388384cc",
   "metadata": {
    "slideshow": {
     "slide_type": "fragment"
    }
   },
   "source": [
    "OOPS!  That is not what we wanted.  This illustrates that Python is really not math focused.  Let's do it inside a for-loop:"
   ]
  },
  {
   "cell_type": "code",
   "execution_count": 7,
   "id": "8c2b9866",
   "metadata": {
    "slideshow": {
     "slide_type": "fragment"
    }
   },
   "outputs": [
    {
     "name": "stdout",
     "output_type": "stream",
     "text": [
      "[2, 4, 6, -4, 1.0, 2, 4, 6, -4, 1.0]\n"
     ]
    }
   ],
   "source": [
    "for i in range(len(a)):\n",
    "    a[i] = a[i] * 2\n",
    "print(a)"
   ]
  },
  {
   "cell_type": "markdown",
   "id": "3c871956",
   "metadata": {
    "slideshow": {
     "slide_type": "fragment"
    }
   },
   "source": [
    "OK, that worked.  But there is one more problem...Python let's us put ANYTHING into ``lists``:"
   ]
  },
  {
   "cell_type": "code",
   "execution_count": 8,
   "id": "16534b4c",
   "metadata": {
    "slideshow": {
     "slide_type": "fragment"
    }
   },
   "outputs": [],
   "source": [
    "a = [1, 1.0, True, 'one']"
   ]
  },
  {
   "cell_type": "markdown",
   "id": "f9551555",
   "metadata": {
    "slideshow": {
     "slide_type": "fragment"
    }
   },
   "source": [
    "Here we have an integer, a float, a boolean, and a string. Trying to do make on this mixed bag will have problems:"
   ]
  },
  {
   "cell_type": "code",
   "execution_count": 9,
   "id": "2f385538",
   "metadata": {
    "slideshow": {
     "slide_type": "fragment"
    }
   },
   "outputs": [
    {
     "name": "stdout",
     "output_type": "stream",
     "text": [
      "[2, 2.0, 2, 'oneone']\n"
     ]
    }
   ],
   "source": [
    "for i in range(len(a)):\n",
    "    a[i] = a[i]*2\n",
    "print(a)"
   ]
  },
  {
   "cell_type": "markdown",
   "id": "d81e9b0d",
   "metadata": {
    "slideshow": {
     "slide_type": "fragment"
    }
   },
   "source": [
    "This did as expected for the integer and float, but it converted the boolean to a integer and did the 'doubling' trick on the string.  What happened here is that Python performed the multiplication of each element differently depending on the type of element.  This required Python to stop and inspect the type of each element, making it slow.  "
   ]
  },
  {
   "cell_type": "markdown",
   "id": "5a82c2f4",
   "metadata": {
    "slideshow": {
     "slide_type": "slide"
    }
   },
   "source": [
    "## Doing Math in Python: The Numpy Way\n",
    "\n",
    "The slowness of Python comes from the fact that it must inspect each element in a the ``list`` to get its type, then apply the the correct multiplication. Numpy avoids this by offering a new type of ``list`` where all elements are forced to be the same type.  This ``list`` is actually called an ``ndarray`` for N-dimensional array.  Let's see it in action:"
   ]
  },
  {
   "cell_type": "code",
   "execution_count": 10,
   "id": "4032871f",
   "metadata": {
    "slideshow": {
     "slide_type": "fragment"
    }
   },
   "outputs": [
    {
     "name": "stdout",
     "output_type": "stream",
     "text": [
      "[1. 2. 3. 4. 1.]\n"
     ]
    }
   ],
   "source": [
    "import numpy as np\n",
    "a = np.array([1, 2, 3, 4.0, True], dtype=float)\n",
    "print(a)"
   ]
  },
  {
   "cell_type": "markdown",
   "id": "75f99de0",
   "metadata": {
    "slideshow": {
     "slide_type": "fragment"
    }
   },
   "source": [
    "Here we have told Numpy that this ``array`` should be of type ``float``, so it converts all values to ``float`` for us.  Now we can do some math:"
   ]
  },
  {
   "cell_type": "code",
   "execution_count": 11,
   "id": "87c96cc7",
   "metadata": {
    "slideshow": {
     "slide_type": "fragment"
    }
   },
   "outputs": [
    {
     "name": "stdout",
     "output_type": "stream",
     "text": [
      "[2. 4. 6. 8. 2.]\n"
     ]
    }
   ],
   "source": [
    "a = a*2\n",
    "print(a)"
   ]
  },
  {
   "cell_type": "markdown",
   "id": "89047c21",
   "metadata": {
    "slideshow": {
     "slide_type": "fragment"
    }
   },
   "source": [
    "All operations in Numpy as done in a 'vectorized' way, meaning everything list done 'element-wise'. There is no need to use a for-loop to scan through the elements, since Numpy will essentially do this for us:"
   ]
  },
  {
   "cell_type": "code",
   "execution_count": 12,
   "id": "ae8da38d",
   "metadata": {
    "slideshow": {
     "slide_type": "fragment"
    }
   },
   "outputs": [
    {
     "name": "stdout",
     "output_type": "stream",
     "text": [
      "[ 13.  39.  81. 139.  13.]\n"
     ]
    }
   ],
   "source": [
    "a = 2*a*a + a + 3\n",
    "print(a)"
   ]
  },
  {
   "cell_type": "markdown",
   "id": "761e8a59",
   "metadata": {
    "slideshow": {
     "slide_type": "slide"
    }
   },
   "source": [
    "## Python's Data Containers\n",
    "\n",
    "Python's ease of use is one it's main appeals.  This ease of use comes from Python's ability to mix and match data of different types within a single contain, such as the ``list`` we saw above.  In addition to the ``list``, there is also the ``dict`` and ``tuple``. The differences are:\n",
    "\n",
    "- ``list`` let's you read and write elements using numerical indices\n",
    "- ``dict`` let's you access elements by name\n",
    "- ``tuple`` let's you read elements by index, but forbids you from writting. \n",
    "\n",
    "There is one additional way to collect data into a bundle: as ``attributes`` of an ``object``. \n",
    "\n",
    "Let's quickly explore each of these below:\n"
   ]
  },
  {
   "cell_type": "code",
   "execution_count": 13,
   "id": "30230e64",
   "metadata": {
    "slideshow": {
     "slide_type": "fragment"
    }
   },
   "outputs": [
    {
     "name": "stdout",
     "output_type": "stream",
     "text": [
      "[array([1, 3, 4]), 1.0, 'two']\n"
     ]
    }
   ],
   "source": [
    "e = list()\n",
    "e.append(np.array([1, 3, 4], dtype=int))\n",
    "e.append(1.0)\n",
    "e.append('two')\n",
    "print(e)"
   ]
  },
  {
   "cell_type": "code",
   "execution_count": 14,
   "id": "c7cc7b4e",
   "metadata": {},
   "outputs": [
    {
     "name": "stdout",
     "output_type": "stream",
     "text": [
      "{'dave': 1.0, 'bob': 1, 'fred': True, 'george': 'one'}\n"
     ]
    }
   ],
   "source": [
    "d = dict()\n",
    "d['dave'] = 1.0\n",
    "d['bob'] = 1\n",
    "d['fred'] = True\n",
    "d['george'] = 'one'\n",
    "print(d)"
   ]
  },
  {
   "cell_type": "code",
   "execution_count": 15,
   "id": "48bfc63c",
   "metadata": {
    "slideshow": {
     "slide_type": "fragment"
    }
   },
   "outputs": [
    {
     "name": "stdout",
     "output_type": "stream",
     "text": [
      "(array([1, 3, 4]), 1.0, 'two')\n"
     ]
    }
   ],
   "source": [
    "t = tuple(e)\n",
    "print(t)"
   ]
  },
  {
   "cell_type": "markdown",
   "id": "f98c740a",
   "metadata": {
    "slideshow": {
     "slide_type": "slide"
    }
   },
   "source": [
    "And finally, let's look at the ``object``:"
   ]
  },
  {
   "cell_type": "code",
   "execution_count": 16,
   "id": "b110942c",
   "metadata": {
    "slideshow": {
     "slide_type": "fragment"
    }
   },
   "outputs": [],
   "source": [
    "class NewTypeOfObject:\n",
    "    pass"
   ]
  },
  {
   "cell_type": "code",
   "execution_count": 17,
   "id": "677af3cf",
   "metadata": {
    "slideshow": {
     "slide_type": "fragment"
    }
   },
   "outputs": [],
   "source": [
    "obj = NewTypeOfObject()\n",
    "obj.bob = np.array([1, 3, 5], dtype=float)\n",
    "obj.dave = 1.0"
   ]
  },
  {
   "cell_type": "code",
   "execution_count": 18,
   "id": "80b78bfd",
   "metadata": {
    "slideshow": {
     "slide_type": "fragment"
    }
   },
   "outputs": [
    {
     "data": {
      "text/plain": [
       "['__class__',\n",
       " '__delattr__',\n",
       " '__dict__',\n",
       " '__dir__',\n",
       " '__doc__',\n",
       " '__eq__',\n",
       " '__format__',\n",
       " '__ge__',\n",
       " '__getattribute__',\n",
       " '__gt__',\n",
       " '__hash__',\n",
       " '__init__',\n",
       " '__init_subclass__',\n",
       " '__le__',\n",
       " '__lt__',\n",
       " '__module__',\n",
       " '__ne__',\n",
       " '__new__',\n",
       " '__reduce__',\n",
       " '__reduce_ex__',\n",
       " '__repr__',\n",
       " '__setattr__',\n",
       " '__sizeof__',\n",
       " '__str__',\n",
       " '__subclasshook__',\n",
       " '__weakref__',\n",
       " 'bob',\n",
       " 'dave']"
      ]
     },
     "execution_count": 18,
     "metadata": {},
     "output_type": "execute_result"
    }
   ],
   "source": [
    "dir(obj)"
   ]
  },
  {
   "cell_type": "code",
   "execution_count": null,
   "id": "0c89d0a2",
   "metadata": {},
   "outputs": [],
   "source": []
  }
 ],
 "metadata": {
  "celltoolbar": "Slideshow",
  "kernelspec": {
   "display_name": "Python 3 (ipykernel)",
   "language": "python",
   "name": "python3"
  },
  "language_info": {
   "codemirror_mode": {
    "name": "ipython",
    "version": 3
   },
   "file_extension": ".py",
   "mimetype": "text/x-python",
   "name": "python",
   "nbconvert_exporter": "python",
   "pygments_lexer": "ipython3",
   "version": "3.9.15"
  },
  "rise": {
   "enable_chalkboard": true,
   "scroll": true,
   "theme": "moon",
   "transition": "slide"
  }
 },
 "nbformat": 4,
 "nbformat_minor": 5
}
