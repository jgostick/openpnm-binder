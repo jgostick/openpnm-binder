{
 "cells": [
  {
   "cell_type": "markdown",
   "id": "8eb5af1e",
   "metadata": {
    "slideshow": {
     "slide_type": "slide"
    }
   },
   "source": [
    "# Introduction to Pore Network Modeling\n",
    "\n",
    "Pore network modelling in one sentence:\n",
    "\n",
    "> PNM is based on the recognition that the interconnected voids of a real porous material can be mapped onto an equivalent network for convenient mathematical analysis\n",
    "\n",
    "<img title=\"a title\" src=\"images/dns_vs_pnm.png\" width=\"65%\" align=\"center\">"
   ]
  },
  {
   "cell_type": "markdown",
   "id": "c640fc64",
   "metadata": {
    "slideshow": {
     "slide_type": "subslide"
    }
   },
   "source": [
    "Pore Network Modelling, or PNM, offers several advantages or capabilities:\n",
    "\n",
    "- It allows \"pore-scale\" modeling of transport processes in porous materials with computational ease\n",
    "    - This permits the study of the \"structure-performance\" relationship in materials like electrodes, filters, catalysts, ...\n",
    "- It enables multiphase flow predictions through percolation theory\n",
    "    - This permits the study of multiphase transport processes like relatively permeability and resisitivity index"
   ]
  },
  {
   "cell_type": "markdown",
   "id": "35de9935",
   "metadata": {
    "slideshow": {
     "slide_type": "subslide"
    }
   },
   "source": [
    "Some Definitions and Terminology\n",
    "\n",
    "> - A *pore* is a cavity or opening in the voids\n",
    "> - A *throat* is a constriction between two cavties\n",
    "> - A throat plus *half* of each pore on either end define a *conduit*\n",
    "\n",
    "<img title=\"a title\" src=\"images/3d_conduit.png\" width=\"65%\">"
   ]
  },
  {
   "cell_type": "markdown",
   "id": "d5b78311",
   "metadata": {
    "slideshow": {
     "slide_type": "slide"
    }
   },
   "source": [
    "Accurate pore network predictions require that the pore space is correctly mapped, this means two things:\n",
    "\n",
    "1. The *topology* of the network is mapped correctly\n",
    "    - Each pore is connected to the correct neighboroing pores \n",
    "    - The spatial locations of each pore is known\n",
    "\n",
    "\n",
    "2. The *geometry* of each pore and throat are determined correctly\n",
    "    - Image analysis tools (e.g. PoreSpy) are used to measure the size of each pore cavity and throat constriction"
   ]
  },
  {
   "cell_type": "markdown",
   "id": "235352af",
   "metadata": {
    "slideshow": {
     "slide_type": "slide"
    }
   },
   "source": [
    "### Using a Simplified Geometry\n",
    "\n",
    "We often represent pores by spheres and throats by cylinders, as shown below, but this is completely flexible:\n",
    "\n",
    "<img title=\"a title\" src=\"images/conduit_cross-section_1.png\" width=\"30%\">\n",
    "\n",
    "Whatever physical law and geometrical simplificaiton are used, they must be representable as a form of Ohm's law:\n",
    "\n",
    "$$ n_{i,j} = D_{AB} \\frac{\\pi R^2_t}{L_t} \\Delta C_{i,j} = g_D \\Delta C_{i,j} $$"
   ]
  },
  {
   "cell_type": "markdown",
   "id": "5f936954",
   "metadata": {
    "slideshow": {
     "slide_type": "slide"
    }
   },
   "source": [
    "### Converting to an Equivalent Conductance\n",
    "\n",
    "We can be more or less detailed about how we find $g_D$, but ultimately the pore-throat-pore conduit is a set of resistors (or conductors) in series:\n",
    "\n",
    "<img title=\"a title\" src=\"images/conduit_cross-section_2.png\" width=\"30%\">\n",
    "\n",
    "$$ \\frac{1}{g_D} = \\frac{1}{g_{p,1}} + \\frac{1}{g_{t}} + \\frac{1}{g_{p,2}} $$"
   ]
  },
  {
   "cell_type": "markdown",
   "id": "4bae9de4",
   "metadata": {
    "slideshow": {
     "slide_type": "slide"
    }
   },
   "source": [
    "### Resistor Network Calculations\n",
    "\n",
    "Performing a mass balance on each pore gives the net rate of material entering or exiting that pore:\n",
    "\n",
    "$$ N_j = \\Sigma g_{D,i-j} \\Delta C_{i,j} = b $$\n",
    "\n",
    "where $b$ would be 0 for a non-reactive, internal pore, or $b=const$ for a constant rate boundary condition, etc.\n",
    "\n",
    "The pore network is a fully connected network where the mass balances between pores are all coupled to their neighbors:\n",
    "\n",
    "<img title=\"a title\" src=\"images/resistor_network.png\" width=\"35%\">\n",
    "\n",
    "This gives a system of equations that can be solved to find the quantity of interest (i.e. concentration, pressure, etc):\n",
    "\n",
    "$$ C_i = A^{-1} b $$"
   ]
  },
  {
   "cell_type": "markdown",
   "id": "86f9ec4a",
   "metadata": {
    "slideshow": {
     "slide_type": "slide"
    }
   },
   "source": [
    "### Calculating Species Distributions\n",
    "\n",
    "The result is that we can solve for the quantity in each pore, which we can compare to full DNS calculation:\n",
    "\n",
    "<img title=\"a title\" src=\"images/dns_vs_pnm_concentration_map.png\" width=\"65%\">"
   ]
  }
 ],
 "metadata": {
  "celltoolbar": "Slideshow",
  "kernelspec": {
   "display_name": "Python 3 (ipykernel)",
   "language": "python",
   "name": "python3"
  },
  "language_info": {
   "codemirror_mode": {
    "name": "ipython",
    "version": 3
   },
   "file_extension": ".py",
   "mimetype": "text/x-python",
   "name": "python",
   "nbconvert_exporter": "python",
   "pygments_lexer": "ipython3",
   "version": "3.9.15"
  },
  "rise": {
   "enable_chalkboard": true,
   "scroll": true,
   "theme": "serif",
   "transition": "slide"
  }
 },
 "nbformat": 4,
 "nbformat_minor": 5
}
