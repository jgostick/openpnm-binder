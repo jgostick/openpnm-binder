{
 "cells": [
  {
   "cell_type": "markdown",
   "id": "dc0cb2f4",
   "metadata": {
    "slideshow": {
     "slide_type": "slide"
    }
   },
   "source": [
    "# Compute Network Permeability\n",
    "\n",
    "There are three main stages of an OpenPNM simulation. \n",
    "\n",
    "1. Create a network topology and define geometric properties\n",
    "2. Create a phase object and define pore-scale transport properties\n",
    "3. Create an algorithm object, assign boundary conditions, and run it"
   ]
  },
  {
   "cell_type": "markdown",
   "id": "47b38c6e",
   "metadata": {
    "slideshow": {
     "slide_type": "fragment"
    }
   },
   "source": [
    "Let's proceed as though we're going to do a single phase flow simulation to compute the permeability of the network.\n",
    "\n",
    "One common conductance model for flow through a tube is the Hagan-Poiseuille model:\n",
    "\n",
    "$$ Q = \\frac{\\pi R^4}{8 \\mu L} \\Delta P = g_H \\Delta P $$\n",
    "\n",
    "From this we can see that our simulation will need the diameters and lengths of pores and throats, as well as the fluid viscosity."
   ]
  },
  {
   "cell_type": "markdown",
   "id": "4dc79a41",
   "metadata": {
    "slideshow": {
     "slide_type": "slide"
    }
   },
   "source": [
    "## Network Generators\n",
    "\n",
    "OpenPNM includes a number of ways to [generate networks](https://openpnm.org/modules/generated/openpnm.network.html#module-openpnm.network), both regular lattices and random networks:"
   ]
  },
  {
   "cell_type": "code",
   "execution_count": 56,
   "id": "90450aed",
   "metadata": {
    "slideshow": {
     "slide_type": "fragment"
    }
   },
   "outputs": [
    {
     "name": "stdout",
     "output_type": "stream",
     "text": [
      "BodyCenteredCubic\n",
      "Cubic\n",
      "CubicTemplate\n",
      "Delaunay\n",
      "DelaunayVoronoiDual\n",
      "Demo\n",
      "FaceCenteredCubic\n",
      "Network\n",
      "Voronoi\n"
     ]
    }
   ],
   "source": [
    "import openpnm as op\n",
    "for item in dir(op.network):\n",
    "    if not item.startswith('_'):\n",
    "        print(item)\n",
    "        "
   ]
  },
  {
   "cell_type": "markdown",
   "id": "6a22df93",
   "metadata": {
    "slideshow": {
     "slide_type": "slide"
    }
   },
   "source": [
    "Let's use the Cubic generator, and stick to 2D, for simplicity:"
   ]
  },
  {
   "cell_type": "code",
   "execution_count": 57,
   "id": "aa592fe9",
   "metadata": {
    "slideshow": {
     "slide_type": "fragment"
    }
   },
   "outputs": [
    {
     "data": {
      "image/png": "[encoded data removed]",
      "text/plain": [
       "<Figure size 640x480 with 1 Axes>"
      ]
     },
     "metadata": {},
     "output_type": "display_data"
    }
   ],
   "source": [
    "pn = op.network.Cubic(shape=[5, 5, 1], spacing=1e-5)\n",
    "ax = op.visualization.plot_connections(pn)\n",
    "ax = op.visualization.plot_coordinates(pn, s=100, ax=ax)\n"
   ]
  },
  {
   "cell_type": "markdown",
   "id": "f24ea5d9",
   "metadata": {
    "slideshow": {
     "slide_type": "slide"
    }
   },
   "source": [
    "## Data Storage\n",
    "\n",
    "Let's print the network and see what data is created during the generation:"
   ]
  },
  {
   "cell_type": "code",
   "execution_count": 28,
   "id": "193e39f2",
   "metadata": {
    "slideshow": {
     "slide_type": "fragment"
    }
   },
   "outputs": [
    {
     "name": "stdout",
     "output_type": "stream",
     "text": [
      "\n",
      "══════════════════════════════════════════════════════════════════════════════\n",
      "net : <openpnm.network.Cubic at 0x2761b786ea0>\n",
      "――――――――――――――――――――――――――――――――――――――――――――――――――――――――――――――――――――――――――――――\n",
      "  #  Properties                                                   Valid Values\n",
      "――――――――――――――――――――――――――――――――――――――――――――――――――――――――――――――――――――――――――――――\n",
      "  2  pore.coords                                                       25 / 25\n",
      "  3  throat.conns                                                      40 / 40\n",
      "――――――――――――――――――――――――――――――――――――――――――――――――――――――――――――――――――――――――――――――\n",
      "  #  Labels                                                 Assigned Locations\n",
      "――――――――――――――――――――――――――――――――――――――――――――――――――――――――――――――――――――――――――――――\n",
      "  2  pore.surface                                                           16\n",
      "  3  throat.surface                                                         16\n",
      "  4  pore.left                                                               5\n",
      "  5  pore.right                                                              5\n",
      "  6  pore.front                                                              5\n",
      "  7  pore.back                                                               5\n",
      "――――――――――――――――――――――――――――――――――――――――――――――――――――――――――――――――――――――――――――――\n"
     ]
    }
   ],
   "source": [
    "print(pn)\n"
   ]
  },
  {
   "cell_type": "markdown",
   "id": "4133fc24",
   "metadata": {
    "slideshow": {
     "slide_type": "fragment"
    }
   },
   "source": [
    "Key things to note:\n",
    "1. Each item listed above is an entry in the ``pn`` dictionary, like ``pn['pore.coords']``\n",
    "2. Items starting with the word ``'pore'`` are obviously \"pore data\" and ``'throat'`` indicates \"throat data\"\n",
    "3. Each item is a numpy array with one element for each pore or throat...this network has 25 pores and 40 throats\n",
    "4. 'pore.coords' lists the [x, y, z] coordinates of each pore\n",
    "5. 'throat.conns' lists the [head, tail] of each throat, meaning which pore is on each end\n",
    "6. The things referred to as \"Labels\" are boolean arrays (i.e. ``True/False``) where ``True`` indicates where that label is applied.  (These are very helpful for applying boundary conditions). \n",
    "7. Geometrical data is missing, but we'll add that next"
   ]
  },
  {
   "cell_type": "markdown",
   "id": "54fad8d1",
   "metadata": {
    "slideshow": {
     "slide_type": "slide"
    }
   },
   "source": [
    "## Define Geometry\n",
    "\n",
    "To conduct our simulation we need: \n",
    "\n",
    "- The diameter of pores and throats\n",
    "- The length of throats"
   ]
  },
  {
   "cell_type": "markdown",
   "id": "f799d7b5",
   "metadata": {
    "slideshow": {
     "slide_type": "slide"
    }
   },
   "source": [
    "### Pore Diameters: The easy way\n",
    "\n",
    "Let's assign pore diameters from a unform distribution, remembering that the pores are spaced 10 um apart and they should not overlap:"
   ]
  },
  {
   "cell_type": "code",
   "execution_count": 86,
   "id": "683e1809",
   "metadata": {
    "slideshow": {
     "slide_type": "fragment"
    }
   },
   "outputs": [
    {
     "name": "stdout",
     "output_type": "stream",
     "text": [
      "[7.62352084e-06 4.18667497e-07 2.78986473e-06 8.57960414e-06\n",
      " 3.69039996e-06 8.98991875e-06 2.89097831e-06 3.80323481e-06\n",
      " 1.09373393e-06 8.14624611e-06 9.33485442e-06 1.83107189e-06\n",
      " 3.11198567e-06 6.74704043e-06 7.91010422e-07 3.27239943e-07\n",
      " 3.26575619e-06 3.86612194e-06 5.48967345e-06 5.52931172e-06\n",
      " 3.30127174e-06 4.25651101e-06 2.51856859e-06 2.02635132e-06\n",
      " 7.77525513e-06]\n"
     ]
    }
   ],
   "source": [
    "import numpy as np\n",
    "pn['pore.diameter'] = np.random.rand(pn.num_pores())*1e-5\n",
    "print(pn['pore.diameter'])\n"
   ]
  },
  {
   "cell_type": "markdown",
   "id": "3e417f27",
   "metadata": {
    "slideshow": {
     "slide_type": "slide"
    }
   },
   "source": [
    "### Throat Lengths: The hard way\n",
    "\n",
    "First, let's do this by hand:\n",
    "\n",
    "> We'll use the ``'throat.conns'`` array to index into the ``'pore.diameter'`` array to get the diameter of the pore on each end of each throat, then we'll subtract half of each diameter from the known pore spacing, with the remaining amount being the throat length"
   ]
  },
  {
   "cell_type": "code",
   "execution_count": 59,
   "id": "665ff75b",
   "metadata": {
    "slideshow": {
     "slide_type": "fragment"
    }
   },
   "outputs": [
    {
     "name": "stdout",
     "output_type": "stream",
     "text": [
      "[3.38614765e-06 2.66129569e-06 2.68908581e-06 6.21639964e-06\n",
      " 6.77185282e-06 6.01354562e-06 5.27774603e-06 4.47143498e-06\n",
      " 5.42389468e-06 7.11133557e-06 5.28112350e-06 1.37637822e-06\n",
      " 3.18933525e-06 3.12918888e-06 2.74284317e-06 2.70295620e-06\n",
      " 5.95339764e-06 2.11642329e-06 5.28608824e-06 8.91380333e-06\n",
      " 3.34892736e-06 6.80907310e-06 1.86576821e-06 6.10106364e-06\n",
      " 4.58677099e-06 4.67340213e-06 7.52234536e-06 5.60253583e-06\n",
      " 4.95633370e-06 8.91479500e-07 4.15921814e-06 4.45401178e-06\n",
      " 5.78651267e-06 2.23745401e-06 1.84188042e-06 5.81224492e-06\n",
      " 3.33048797e-06 1.91512421e-06 6.11380720e-06 5.50295233e-06]\n"
     ]
    }
   ],
   "source": [
    "D1, D2 = pn['pore.diameter'][pn['throat.conns']].T\n",
    "Lt = 1e-5 - D1/2 - D2/2\n",
    "print(Lt)\n"
   ]
  },
  {
   "cell_type": "markdown",
   "id": "32e15968",
   "metadata": {
    "slideshow": {
     "slide_type": "slide"
    }
   },
   "source": [
    "### Throat Lengths: The \"pore-scale model\" way\n",
    "\n",
    "Calculations like the one above are common, so OpenPNM offers pre-defined ways to do them.  \n",
    "\n",
    "``openpnm.models`` is a libary of prewritting functions for computing many things.  \n",
    "\n",
    "The library is further organized by the type of thing being computed, such as ``openpnm.models.geometry`` and ``openpnm.models.physics``."
   ]
  },
  {
   "cell_type": "code",
   "execution_count": 75,
   "id": "1fd56fa6",
   "metadata": {
    "slideshow": {
     "slide_type": "fragment"
    }
   },
   "outputs": [
    {
     "name": "stdout",
     "output_type": "stream",
     "text": [
      "[3.38614765e-06 2.66129569e-06 2.68908581e-06 6.21639964e-06\n",
      " 6.77185282e-06 6.01354562e-06 5.27774603e-06 4.47143498e-06\n",
      " 5.42389468e-06 7.11133557e-06 5.28112350e-06 1.37637822e-06\n",
      " 3.18933525e-06 3.12918888e-06 2.74284317e-06 2.70295620e-06\n",
      " 5.95339764e-06 2.11642329e-06 5.28608824e-06 8.91380333e-06\n",
      " 3.34892736e-06 6.80907310e-06 1.86576821e-06 6.10106364e-06\n",
      " 4.58677099e-06 4.67340213e-06 7.52234536e-06 5.60253583e-06\n",
      " 4.95633370e-06 8.91479500e-07 4.15921814e-06 4.45401178e-06\n",
      " 5.78651267e-06 2.23745401e-06 1.84188042e-06 5.81224492e-06\n",
      " 3.33048797e-06 1.91512421e-06 6.11380720e-06 5.50295233e-06]\n"
     ]
    }
   ],
   "source": [
    "mod = op.models.geometry.throat_length.squares_and_rectangles\n",
    "pn.add_model(propname='throat.length', model=mod)\n",
    "pn.regenerate_models()\n",
    "print(pn['throat.length'])\n"
   ]
  },
  {
   "cell_type": "markdown",
   "id": "1ddfbe9e",
   "metadata": {
    "slideshow": {
     "slide_type": "slide"
    }
   },
   "source": [
    "### Throat Diameters: The \"pore-scale model\" way\n",
    "\n",
    "Calculating throat diameters by hand is also tedious because we'd like to ensure they are not larger than their neighboring pores. \n",
    "\n",
    "Luckily there is a pore-scale model for that:"
   ]
  },
  {
   "cell_type": "code",
   "execution_count": 76,
   "id": "0b2e40ae",
   "metadata": {
    "slideshow": {
     "slide_type": "fragment"
    }
   },
   "outputs": [],
   "source": [
    "mod = op.models.geometry.throat_size.from_neighbor_pores\n",
    "pn.add_model(propname='throat.diameter', model=mod)\n",
    "pn.regenerate_models()\n"
   ]
  },
  {
   "cell_type": "markdown",
   "id": "194ee343",
   "metadata": {
    "slideshow": {
     "slide_type": "slide"
    }
   },
   "source": [
    "## Compute Phase Properties\n",
    "\n",
    "There are several ways to compute phase properties, but for the sake of this tutorial we'll just do it the quick and easy way."
   ]
  },
  {
   "cell_type": "code",
   "execution_count": 79,
   "id": "a1e40a0b",
   "metadata": {
    "slideshow": {
     "slide_type": "fragment"
    }
   },
   "outputs": [],
   "source": [
    "water = op.phase.Phase(network=pn)\n",
    "water['pore.viscosity'] = 0.001  # Pa.s\n",
    "water['throat.viscosity'] = 0.001\n"
   ]
  },
  {
   "cell_type": "markdown",
   "id": "f150d150",
   "metadata": {
    "slideshow": {
     "slide_type": "fragment"
    }
   },
   "source": [
    "Things to note:\n",
    "\n",
    "- We assigned a scalar value (0.001), but internally OpenPNM applies it to all pores and throats so that each has its own value\n",
    "- We have assigned values to both pores *and* throats, but OpenPNM would have automatically interpolate one if it only had the other"
   ]
  },
  {
   "cell_type": "markdown",
   "id": "ff1c57d4",
   "metadata": {
    "slideshow": {
     "slide_type": "slide"
    }
   },
   "source": [
    "## Compute the Hydraulic Conductance\n",
    "\n",
    "For simplicity, we will assume that all the pressue drop occurs in the throats, so we will not consider the contribution of the pores.\n",
    "\n",
    "So:\n",
    "\n",
    "$$ \\frac{1}{g_H} = \\frac{1}{g_{p,1}} + \\frac{1}{g_t} + \\frac{1}{g_{p,2}} = \\frac{1}{\\infty} + \\frac{1}{g_t} + \\frac{1}{\\infty} = \\frac{1}{g_t}$$"
   ]
  },
  {
   "cell_type": "code",
   "execution_count": 81,
   "id": "132555d4",
   "metadata": {
    "slideshow": {
     "slide_type": "fragment"
    }
   },
   "outputs": [],
   "source": [
    "R = pn['throat.diameter']/2\n",
    "L = pn['throat.length']\n",
    "mu = water['throat.viscosity']\n",
    "water['throat.hydraulic_conductance'] = np.pi * R**4 / (8 * mu * L )\n"
   ]
  },
  {
   "cell_type": "markdown",
   "id": "e5aba38e",
   "metadata": {
    "slideshow": {
     "slide_type": "slide"
    }
   },
   "source": [
    "## Run the Simulation\n",
    "\n",
    "Now we create a ``StokesFlow`` object, assign boundary conditions and run it.\n",
    "\n",
    "Note that the ``StokesFlow`` algorithm automatically looks for values of ``'throat.hydraulic_conductance'`` on the ``Phase`` object.  "
   ]
  },
  {
   "cell_type": "code",
   "execution_count": 82,
   "id": "799558e1",
   "metadata": {
    "slideshow": {
     "slide_type": "fragment"
    }
   },
   "outputs": [],
   "source": [
    "sf = op.algorithms.StokesFlow(network=pn, phase=water)\n"
   ]
  },
  {
   "cell_type": "markdown",
   "id": "3508025f",
   "metadata": {
    "slideshow": {
     "slide_type": "slide"
    }
   },
   "source": [
    "### Applying Boundary Conditions Using Labels\n",
    "\n",
    "The labels mentioned above will now be of great help.  They allow us to choose pores on the desired faces for inlet and outlet boundaries.\n",
    "\n",
    "We can ask the network to return the indices of the pores which have been labelled \"left\":"
   ]
  },
  {
   "cell_type": "code",
   "execution_count": 83,
   "id": "a424b4dc",
   "metadata": {
    "slideshow": {
     "slide_type": "fragment"
    }
   },
   "outputs": [
    {
     "name": "stdout",
     "output_type": "stream",
     "text": [
      "[0 1 2 3 4]\n"
     ]
    }
   ],
   "source": [
    "print(pn.pores('left'))\n"
   ]
  },
  {
   "cell_type": "markdown",
   "id": "7e0b3db4",
   "metadata": {
    "slideshow": {
     "slide_type": "fragment"
    }
   },
   "source": [
    "Now we use these to specify boundary conditions:"
   ]
  },
  {
   "cell_type": "code",
   "execution_count": 84,
   "id": "24f6883c",
   "metadata": {
    "slideshow": {
     "slide_type": "fragment"
    }
   },
   "outputs": [],
   "source": [
    "sf.set_value_BC(pores=pn.pores(\"left\"), values=200_000)\n",
    "sf.set_value_BC(pores=pn.pores(\"right\"), values=100_000)\n"
   ]
  },
  {
   "cell_type": "markdown",
   "id": "4d487eea",
   "metadata": {
    "slideshow": {
     "slide_type": "slide"
    }
   },
   "source": [
    "And finally we are ready to run it:"
   ]
  },
  {
   "cell_type": "code",
   "execution_count": 85,
   "id": "4d1438cd",
   "metadata": {
    "slideshow": {
     "slide_type": "fragment"
    }
   },
   "outputs": [],
   "source": [
    "sf.run()\n"
   ]
  },
  {
   "cell_type": "markdown",
   "id": "100c4c08",
   "metadata": {
    "slideshow": {
     "slide_type": "slide"
    }
   },
   "source": [
    "## Determine Darcy Permeability of the Network\n",
    "\n",
    "The simulation performed above is equivalent to the experiment that one would conduct on a real sample.\n",
    "\n",
    "We just need to ask OpenPNM what was the total flow rate across the network, then we can find $K$ from:\n",
    "\n",
    "$$ Q = \\frac{K A}{\\mu L} \\Delta P $$"
   ]
  },
  {
   "cell_type": "code",
   "execution_count": 92,
   "id": "7ebd5ad7",
   "metadata": {
    "slideshow": {
     "slide_type": "fragment"
    }
   },
   "outputs": [],
   "source": [
    "L = 5*1e-5\n",
    "A = (5 * 1) * (1e-5)**2\n",
    "mu = 0.001\n",
    "DeltaP = 100_000\n"
   ]
  },
  {
   "cell_type": "code",
   "execution_count": 93,
   "id": "21c55b53",
   "metadata": {},
   "outputs": [],
   "source": [
    "Q = sf.rate(pores=pn.pores('left'), mode='group')\n"
   ]
  },
  {
   "cell_type": "code",
   "execution_count": 95,
   "id": "060fe762",
   "metadata": {},
   "outputs": [
    {
     "name": "stdout",
     "output_type": "stream",
     "text": [
      "The Darcy permeability is:  [1.35291722e-13] m^2\n"
     ]
    }
   ],
   "source": [
    "K = Q * mu * L / (A * DeltaP)\n",
    "print(\"The Darcy permeability is: \", K, \"m^2\")\n"
   ]
  }
 ],
 "metadata": {
  "celltoolbar": "Slideshow",
  "kernelspec": {
   "display_name": "Python 3 (ipykernel)",
   "language": "python",
   "name": "python3"
  },
  "language_info": {
   "codemirror_mode": {
    "name": "ipython",
    "version": 3
   },
   "file_extension": ".py",
   "mimetype": "text/x-python",
   "name": "python",
   "nbconvert_exporter": "python",
   "pygments_lexer": "ipython3",
   "version": "3.9.15"
  },
  "rise": {
   "enable_chalkboard": true,
   "scroll": true,
   "theme": "serif",
   "transition": "slide"
  }
 },
 "nbformat": 4,
 "nbformat_minor": 5
}
